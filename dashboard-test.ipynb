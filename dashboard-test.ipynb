{
 "cells": [
  {
   "cell_type": "markdown",
   "id": "a727bd4b-1c33-4f15-9911-8e013cfe28a0",
   "metadata": {},
   "source": [
    "Iryna Drobysh, 30/12/2024"
   ]
  },
  {
   "cell_type": "markdown",
   "id": "d033d2e7-ccb3-4ec9-8b0e-9bd8b1948520",
   "metadata": {},
   "source": [
    "Example Dashboard"
   ]
  },
  {
   "cell_type": "code",
   "execution_count": null,
   "id": "218079f0-abe2-4dcf-a86d-c01fc4c7b568",
   "metadata": {},
   "outputs": [],
   "source": [
    "import matplotlib.pyplot as plt\n",
    "\n",
    "fig, ax = plt.subplots()\n",
    "\n",
    "fruits = ['apple', 'blueberry', 'cherry', 'orange']\n",
    "counts = [40, 100, 30, 55]\n",
    "bar_labels = ['red', 'blue', '_red', 'orange']\n",
    "bar_colors = ['tab:red', 'tab:blue', 'tab:red', 'tab:orange']\n",
    "\n",
    "ax.bar(fruits, counts, label=bar_labels, color=bar_colors)\n",
    "\n",
    "ax.set_ylabel('fruit supply')\n",
    "ax.set_title('Fruit supply by kind and color')\n",
    "ax.legend(title='Fruit color')\n",
    "\n",
    "plt.show()"
   ]
  },
  {
   "cell_type": "markdown",
   "id": "851ea454-b4f1-4f36-8c0a-dad37014abba",
   "metadata": {},
   "source": []
  },
  {
   "cell_type": "code",
   "execution_count": null,
   "id": "243c6631-23b6-4bc3-b836-d24e380fecde",
   "metadata": {},
   "outputs": [],
   "source": [
    "import matplotlib.pyplot as plt\n",
    "import numpy as np\n",
    "\n",
    "# Fixing random state for reproducibility.\n",
    "np.random.seed(19680801)\n",
    "\n",
    "fig, (ax1, ax2) = plt.subplots(ncols=2, figsize=(8, 4))\n",
    "\n",
    "x_values = [n for n in range(20)]\n",
    "y_values = np.random.randn(20)\n",
    "\n",
    "facecolors = ['green' if y > 0 else 'red' for y in y_values]\n",
    "edgecolors = facecolors\n",
    "\n",
    "ax1.bar(x_values, y_values, color=facecolors, edgecolor=edgecolors, alpha=0.5)\n",
    "ax1.set_title(\"Explicit 'alpha' keyword value\\nshared by all bars and edges\")\n",
    "\n",
    "\n",
    "# Normalize y values to get distinct face alpha values.\n",
    "abs_y = [abs(y) for y in y_values]\n",
    "face_alphas = [n / max(abs_y) for n in abs_y]\n",
    "edge_alphas = [1 - alpha for alpha in face_alphas]\n",
    "\n",
    "colors_with_alphas = list(zip(facecolors, face_alphas))\n",
    "edgecolors_with_alphas = list(zip(edgecolors, edge_alphas))\n",
    "\n",
    "ax2.bar(x_values, y_values, color=colors_with_alphas,\n",
    "        edgecolor=edgecolors_with_alphas)\n",
    "ax2.set_title('Normalized alphas for\\neach bar and each edge')\n",
    "\n",
    "plt.show()"
   ]
  },
  {
   "cell_type": "markdown",
   "id": "c3c43d10-4266-4e83-a8f7-2376cbc81ee1",
   "metadata": {},
   "source": []
  },
  {
   "cell_type": "code",
   "execution_count": null,
   "id": "cf66f572-c6c4-46b0-9444-40bc83f82d7c",
   "metadata": {},
   "outputs": [],
   "source": [
    "import matplotlib.pyplot as plt\n",
    "import numpy as np\n",
    "\n",
    "t = np.arange(0.0, 2, 0.01)\n",
    "s = np.sin(2*np.pi*t)\n",
    "\n",
    "fig, ax = plt.subplots()\n",
    "\n",
    "ax.plot(t, s, color='black')\n",
    "ax.axhline(0, color='black')\n",
    "\n",
    "ax.fill_between(t, 1, where=s > 0, facecolor='green', alpha=.5)\n",
    "ax.fill_between(t, -1, where=s < 0, facecolor='red', alpha=.5)\n",
    "\n",
    "plt.show()"
   ]
  },
  {
   "cell_type": "markdown",
   "id": "c8cc89d6-eeea-4187-bf53-50fab66a64bb",
   "metadata": {},
   "source": []
  }
 ],
 "metadata": {
  "kernelspec": {
   "display_name": "Python 3 (ipykernel)",
   "language": "python",
   "name": "python3"
  },
  "language_info": {
   "codemirror_mode": {
    "name": "ipython",
    "version": 3
   },
   "file_extension": ".py",
   "mimetype": "text/x-python",
   "name": "python",
   "nbconvert_exporter": "python",
   "pygments_lexer": "ipython3",
   "version": "3.13.1"
  }
 },
 "nbformat": 4,
 "nbformat_minor": 5
}
